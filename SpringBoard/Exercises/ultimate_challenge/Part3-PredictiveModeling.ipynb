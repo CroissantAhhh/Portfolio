{
 "cells": [
  {
   "cell_type": "markdown",
   "metadata": {},
   "source": [
    "# Predictive Modeling"
   ]
  },
  {
   "cell_type": "code",
   "execution_count": 1,
   "metadata": {},
   "outputs": [],
   "source": [
    "import statistics\n",
    "import matplotlib.pyplot as plt\n",
    "import seaborn as sns\n",
    "import pandas as pd\n",
    "import numpy as np\n",
    "import os\n",
    "import datetime\n",
    "import pprint"
   ]
  },
  {
   "cell_type": "code",
   "execution_count": 2,
   "metadata": {},
   "outputs": [],
   "source": [
    "path = \"/Users/jasonzhou/Documents/GitHub/Portfolio/SpringBoard/Exercises/ultimate_challenge\"\n",
    "os.chdir(path)\n",
    "\n",
    "df = pd.read_json(\"ultimate_data_challenge.json\")"
   ]
  },
  {
   "cell_type": "code",
   "execution_count": 3,
   "metadata": {},
   "outputs": [
    {
     "data": {
      "text/html": [
       "<div>\n",
       "<style scoped>\n",
       "    .dataframe tbody tr th:only-of-type {\n",
       "        vertical-align: middle;\n",
       "    }\n",
       "\n",
       "    .dataframe tbody tr th {\n",
       "        vertical-align: top;\n",
       "    }\n",
       "\n",
       "    .dataframe thead th {\n",
       "        text-align: right;\n",
       "    }\n",
       "</style>\n",
       "<table border=\"1\" class=\"dataframe\">\n",
       "  <thead>\n",
       "    <tr style=\"text-align: right;\">\n",
       "      <th></th>\n",
       "      <th>city</th>\n",
       "      <th>trips_in_first_30_days</th>\n",
       "      <th>signup_date</th>\n",
       "      <th>avg_rating_of_driver</th>\n",
       "      <th>avg_surge</th>\n",
       "      <th>last_trip_date</th>\n",
       "      <th>phone</th>\n",
       "      <th>surge_pct</th>\n",
       "      <th>ultimate_black_user</th>\n",
       "      <th>weekday_pct</th>\n",
       "      <th>avg_dist</th>\n",
       "      <th>avg_rating_by_driver</th>\n",
       "    </tr>\n",
       "  </thead>\n",
       "  <tbody>\n",
       "    <tr>\n",
       "      <th>0</th>\n",
       "      <td>King's Landing</td>\n",
       "      <td>4</td>\n",
       "      <td>2014-01-25</td>\n",
       "      <td>4.7</td>\n",
       "      <td>1.10</td>\n",
       "      <td>2014-06-17</td>\n",
       "      <td>iPhone</td>\n",
       "      <td>15.4</td>\n",
       "      <td>True</td>\n",
       "      <td>46.2</td>\n",
       "      <td>3.67</td>\n",
       "      <td>5.0</td>\n",
       "    </tr>\n",
       "    <tr>\n",
       "      <th>1</th>\n",
       "      <td>Astapor</td>\n",
       "      <td>0</td>\n",
       "      <td>2014-01-29</td>\n",
       "      <td>5.0</td>\n",
       "      <td>1.00</td>\n",
       "      <td>2014-05-05</td>\n",
       "      <td>Android</td>\n",
       "      <td>0.0</td>\n",
       "      <td>False</td>\n",
       "      <td>50.0</td>\n",
       "      <td>8.26</td>\n",
       "      <td>5.0</td>\n",
       "    </tr>\n",
       "    <tr>\n",
       "      <th>2</th>\n",
       "      <td>Astapor</td>\n",
       "      <td>3</td>\n",
       "      <td>2014-01-06</td>\n",
       "      <td>4.3</td>\n",
       "      <td>1.00</td>\n",
       "      <td>2014-01-07</td>\n",
       "      <td>iPhone</td>\n",
       "      <td>0.0</td>\n",
       "      <td>False</td>\n",
       "      <td>100.0</td>\n",
       "      <td>0.77</td>\n",
       "      <td>5.0</td>\n",
       "    </tr>\n",
       "    <tr>\n",
       "      <th>3</th>\n",
       "      <td>King's Landing</td>\n",
       "      <td>9</td>\n",
       "      <td>2014-01-10</td>\n",
       "      <td>4.6</td>\n",
       "      <td>1.14</td>\n",
       "      <td>2014-06-29</td>\n",
       "      <td>iPhone</td>\n",
       "      <td>20.0</td>\n",
       "      <td>True</td>\n",
       "      <td>80.0</td>\n",
       "      <td>2.36</td>\n",
       "      <td>4.9</td>\n",
       "    </tr>\n",
       "    <tr>\n",
       "      <th>4</th>\n",
       "      <td>Winterfell</td>\n",
       "      <td>14</td>\n",
       "      <td>2014-01-27</td>\n",
       "      <td>4.4</td>\n",
       "      <td>1.19</td>\n",
       "      <td>2014-03-15</td>\n",
       "      <td>Android</td>\n",
       "      <td>11.8</td>\n",
       "      <td>False</td>\n",
       "      <td>82.4</td>\n",
       "      <td>3.13</td>\n",
       "      <td>4.9</td>\n",
       "    </tr>\n",
       "    <tr>\n",
       "      <th>...</th>\n",
       "      <td>...</td>\n",
       "      <td>...</td>\n",
       "      <td>...</td>\n",
       "      <td>...</td>\n",
       "      <td>...</td>\n",
       "      <td>...</td>\n",
       "      <td>...</td>\n",
       "      <td>...</td>\n",
       "      <td>...</td>\n",
       "      <td>...</td>\n",
       "      <td>...</td>\n",
       "      <td>...</td>\n",
       "    </tr>\n",
       "    <tr>\n",
       "      <th>49995</th>\n",
       "      <td>King's Landing</td>\n",
       "      <td>0</td>\n",
       "      <td>2014-01-25</td>\n",
       "      <td>5.0</td>\n",
       "      <td>1.00</td>\n",
       "      <td>2014-06-05</td>\n",
       "      <td>iPhone</td>\n",
       "      <td>0.0</td>\n",
       "      <td>False</td>\n",
       "      <td>100.0</td>\n",
       "      <td>5.63</td>\n",
       "      <td>4.2</td>\n",
       "    </tr>\n",
       "    <tr>\n",
       "      <th>49996</th>\n",
       "      <td>Astapor</td>\n",
       "      <td>1</td>\n",
       "      <td>2014-01-24</td>\n",
       "      <td>NaN</td>\n",
       "      <td>1.00</td>\n",
       "      <td>2014-01-25</td>\n",
       "      <td>iPhone</td>\n",
       "      <td>0.0</td>\n",
       "      <td>False</td>\n",
       "      <td>0.0</td>\n",
       "      <td>0.00</td>\n",
       "      <td>4.0</td>\n",
       "    </tr>\n",
       "    <tr>\n",
       "      <th>49997</th>\n",
       "      <td>Winterfell</td>\n",
       "      <td>0</td>\n",
       "      <td>2014-01-31</td>\n",
       "      <td>5.0</td>\n",
       "      <td>1.00</td>\n",
       "      <td>2014-05-22</td>\n",
       "      <td>Android</td>\n",
       "      <td>0.0</td>\n",
       "      <td>True</td>\n",
       "      <td>100.0</td>\n",
       "      <td>3.86</td>\n",
       "      <td>5.0</td>\n",
       "    </tr>\n",
       "    <tr>\n",
       "      <th>49998</th>\n",
       "      <td>Astapor</td>\n",
       "      <td>2</td>\n",
       "      <td>2014-01-14</td>\n",
       "      <td>3.0</td>\n",
       "      <td>1.00</td>\n",
       "      <td>2014-01-15</td>\n",
       "      <td>iPhone</td>\n",
       "      <td>0.0</td>\n",
       "      <td>False</td>\n",
       "      <td>100.0</td>\n",
       "      <td>4.58</td>\n",
       "      <td>3.5</td>\n",
       "    </tr>\n",
       "    <tr>\n",
       "      <th>49999</th>\n",
       "      <td>Astapor</td>\n",
       "      <td>0</td>\n",
       "      <td>2014-01-18</td>\n",
       "      <td>NaN</td>\n",
       "      <td>1.00</td>\n",
       "      <td>2014-04-20</td>\n",
       "      <td>Android</td>\n",
       "      <td>0.0</td>\n",
       "      <td>False</td>\n",
       "      <td>0.0</td>\n",
       "      <td>3.49</td>\n",
       "      <td>5.0</td>\n",
       "    </tr>\n",
       "  </tbody>\n",
       "</table>\n",
       "<p>50000 rows × 12 columns</p>\n",
       "</div>"
      ],
      "text/plain": [
       "                 city  trips_in_first_30_days signup_date  \\\n",
       "0      King's Landing                       4  2014-01-25   \n",
       "1             Astapor                       0  2014-01-29   \n",
       "2             Astapor                       3  2014-01-06   \n",
       "3      King's Landing                       9  2014-01-10   \n",
       "4          Winterfell                      14  2014-01-27   \n",
       "...               ...                     ...         ...   \n",
       "49995  King's Landing                       0  2014-01-25   \n",
       "49996         Astapor                       1  2014-01-24   \n",
       "49997      Winterfell                       0  2014-01-31   \n",
       "49998         Astapor                       2  2014-01-14   \n",
       "49999         Astapor                       0  2014-01-18   \n",
       "\n",
       "       avg_rating_of_driver  avg_surge last_trip_date    phone  surge_pct  \\\n",
       "0                       4.7       1.10     2014-06-17   iPhone       15.4   \n",
       "1                       5.0       1.00     2014-05-05  Android        0.0   \n",
       "2                       4.3       1.00     2014-01-07   iPhone        0.0   \n",
       "3                       4.6       1.14     2014-06-29   iPhone       20.0   \n",
       "4                       4.4       1.19     2014-03-15  Android       11.8   \n",
       "...                     ...        ...            ...      ...        ...   \n",
       "49995                   5.0       1.00     2014-06-05   iPhone        0.0   \n",
       "49996                   NaN       1.00     2014-01-25   iPhone        0.0   \n",
       "49997                   5.0       1.00     2014-05-22  Android        0.0   \n",
       "49998                   3.0       1.00     2014-01-15   iPhone        0.0   \n",
       "49999                   NaN       1.00     2014-04-20  Android        0.0   \n",
       "\n",
       "       ultimate_black_user  weekday_pct  avg_dist  avg_rating_by_driver  \n",
       "0                     True         46.2      3.67                   5.0  \n",
       "1                    False         50.0      8.26                   5.0  \n",
       "2                    False        100.0      0.77                   5.0  \n",
       "3                     True         80.0      2.36                   4.9  \n",
       "4                    False         82.4      3.13                   4.9  \n",
       "...                    ...          ...       ...                   ...  \n",
       "49995                False        100.0      5.63                   4.2  \n",
       "49996                False          0.0      0.00                   4.0  \n",
       "49997                 True        100.0      3.86                   5.0  \n",
       "49998                False        100.0      4.58                   3.5  \n",
       "49999                False          0.0      3.49                   5.0  \n",
       "\n",
       "[50000 rows x 12 columns]"
      ]
     },
     "execution_count": 3,
     "metadata": {},
     "output_type": "execute_result"
    }
   ],
   "source": [
    "df"
   ]
  },
  {
   "cell_type": "markdown",
   "metadata": {},
   "source": [
    "# Data Cleaning"
   ]
  },
  {
   "cell_type": "code",
   "execution_count": 4,
   "metadata": {},
   "outputs": [
    {
     "name": "stdout",
     "output_type": "stream",
     "text": [
      "<class 'pandas.core.frame.DataFrame'>\n",
      "RangeIndex: 50000 entries, 0 to 49999\n",
      "Data columns (total 12 columns):\n",
      " #   Column                  Non-Null Count  Dtype  \n",
      "---  ------                  --------------  -----  \n",
      " 0   city                    50000 non-null  object \n",
      " 1   trips_in_first_30_days  50000 non-null  int64  \n",
      " 2   signup_date             50000 non-null  object \n",
      " 3   avg_rating_of_driver    41878 non-null  float64\n",
      " 4   avg_surge               50000 non-null  float64\n",
      " 5   last_trip_date          50000 non-null  object \n",
      " 6   phone                   49604 non-null  object \n",
      " 7   surge_pct               50000 non-null  float64\n",
      " 8   ultimate_black_user     50000 non-null  bool   \n",
      " 9   weekday_pct             50000 non-null  float64\n",
      " 10  avg_dist                50000 non-null  float64\n",
      " 11  avg_rating_by_driver    49799 non-null  float64\n",
      "dtypes: bool(1), float64(6), int64(1), object(4)\n",
      "memory usage: 4.2+ MB\n"
     ]
    }
   ],
   "source": [
    "# Checking for missing values\n",
    "\n",
    "df.info()"
   ]
  },
  {
   "cell_type": "code",
   "execution_count": 5,
   "metadata": {},
   "outputs": [],
   "source": [
    "# We're just going to go ahead and fill null rating values with their respective means\n",
    "\n",
    "meanofrating = df['avg_rating_of_driver'].mean()\n",
    "meanbyrating = df['avg_rating_by_driver'].mean()\n",
    "\n",
    "df['avg_rating_of_driver'] = df['avg_rating_of_driver'].fillna(meanofrating)\n",
    "df['avg_rating_by_driver'] = df['avg_rating_by_driver'].fillna(meanbyrating)"
   ]
  },
  {
   "cell_type": "code",
   "execution_count": 6,
   "metadata": {},
   "outputs": [
    {
     "data": {
      "text/plain": [
       "iPhone     34582\n",
       "Android    15022\n",
       "Name: phone, dtype: int64"
      ]
     },
     "execution_count": 6,
     "metadata": {},
     "output_type": "execute_result"
    }
   ],
   "source": [
    "# See what the current distribution of phone is between iPhones and Androids\n",
    "\n",
    "df['phone'].value_counts()"
   ]
  },
  {
   "cell_type": "code",
   "execution_count": 7,
   "metadata": {},
   "outputs": [],
   "source": [
    "# Helper function that randomly returns \"Android\" or \"iPhone\" based on weighted probabilities\n",
    "\n",
    "import random\n",
    "\n",
    "def randomphone():\n",
    "    roll = random.random()\n",
    "    if roll > 0.7:\n",
    "        return \"Android\"\n",
    "    else:\n",
    "        return \"iPhone\""
   ]
  },
  {
   "cell_type": "code",
   "execution_count": 8,
   "metadata": {},
   "outputs": [],
   "source": [
    "# Seems like the ratio is essentially 35/15, or 70/30 iPhones to Androids. We'll randomly fill in the missing phone\n",
    "# values according to these proportions\n",
    "\n",
    "df['phone'] = df['phone'].fillna(randomphone())"
   ]
  },
  {
   "cell_type": "code",
   "execution_count": 9,
   "metadata": {},
   "outputs": [
    {
     "name": "stdout",
     "output_type": "stream",
     "text": [
      "<class 'pandas.core.frame.DataFrame'>\n",
      "RangeIndex: 50000 entries, 0 to 49999\n",
      "Data columns (total 12 columns):\n",
      " #   Column                  Non-Null Count  Dtype  \n",
      "---  ------                  --------------  -----  \n",
      " 0   city                    50000 non-null  object \n",
      " 1   trips_in_first_30_days  50000 non-null  int64  \n",
      " 2   signup_date             50000 non-null  object \n",
      " 3   avg_rating_of_driver    50000 non-null  float64\n",
      " 4   avg_surge               50000 non-null  float64\n",
      " 5   last_trip_date          50000 non-null  object \n",
      " 6   phone                   50000 non-null  object \n",
      " 7   surge_pct               50000 non-null  float64\n",
      " 8   ultimate_black_user     50000 non-null  bool   \n",
      " 9   weekday_pct             50000 non-null  float64\n",
      " 10  avg_dist                50000 non-null  float64\n",
      " 11  avg_rating_by_driver    50000 non-null  float64\n",
      "dtypes: bool(1), float64(6), int64(1), object(4)\n",
      "memory usage: 4.2+ MB\n"
     ]
    }
   ],
   "source": [
    "df.info()"
   ]
  },
  {
   "cell_type": "markdown",
   "metadata": {},
   "source": [
    "# Data Visualization"
   ]
  },
  {
   "cell_type": "code",
   "execution_count": 10,
   "metadata": {},
   "outputs": [
    {
     "data": {
      "text/plain": [
       "'25'"
      ]
     },
     "execution_count": 10,
     "metadata": {},
     "output_type": "execute_result"
    }
   ],
   "source": [
    "# Our focus of this project is to examine user retention, and two columns help with that: signup_date and \n",
    "# last_trip_date. We should create a new column that directly tells us the time difference between these two dates\n",
    "\n",
    "df['signup_date'][0][8:]"
   ]
  },
  {
   "cell_type": "code",
   "execution_count": 11,
   "metadata": {},
   "outputs": [
    {
     "data": {
      "text/plain": [
       "2014-01-18    2948\n",
       "2014-01-25    2885\n",
       "2014-01-11    2402\n",
       "2014-01-24    2284\n",
       "2014-01-17    2149\n",
       "2014-01-31    2100\n",
       "2014-01-19    2028\n",
       "2014-01-10    2021\n",
       "2014-01-06    1763\n",
       "2014-01-01    1737\n",
       "2014-01-26    1708\n",
       "2014-01-23    1606\n",
       "2014-01-07    1486\n",
       "2014-01-04    1485\n",
       "2014-01-30    1471\n",
       "2014-01-09    1433\n",
       "2014-01-16    1431\n",
       "2014-01-22    1369\n",
       "2014-01-05    1343\n",
       "2014-01-12    1334\n",
       "2014-01-20    1295\n",
       "2014-01-28    1284\n",
       "2014-01-08    1275\n",
       "2014-01-27    1236\n",
       "2014-01-21    1234\n",
       "2014-01-03    1213\n",
       "2014-01-29    1197\n",
       "2014-01-14    1120\n",
       "2014-01-15    1110\n",
       "2014-01-13    1049\n",
       "2014-01-02    1004\n",
       "Name: signup_date, dtype: int64"
      ]
     },
     "execution_count": 11,
     "metadata": {},
     "output_type": "execute_result"
    }
   ],
   "source": [
    "# Seeing the range of dates we have in the data\n",
    "\n",
    "df['signup_date'].value_counts()"
   ]
  },
  {
   "cell_type": "code",
   "execution_count": 12,
   "metadata": {},
   "outputs": [
    {
     "data": {
      "text/plain": [
       "31425    2014-01-01\n",
       "10729    2014-01-01\n",
       "40336    2014-01-01\n",
       "34828    2014-01-01\n",
       "37295    2014-01-01\n",
       "            ...    \n",
       "45126    2014-07-01\n",
       "38651    2014-07-01\n",
       "14473    2014-07-01\n",
       "22735    2014-07-01\n",
       "45357    2014-07-01\n",
       "Name: last_trip_date, Length: 50000, dtype: object"
      ]
     },
     "execution_count": 12,
     "metadata": {},
     "output_type": "execute_result"
    }
   ],
   "source": [
    "df['last_trip_date'].sort_values()"
   ]
  },
  {
   "cell_type": "code",
   "execution_count": 13,
   "metadata": {},
   "outputs": [],
   "source": [
    "# Helper function that determines difference in time between signup date and date of last trip. We're only really \n",
    "# interested in the month difference as a general measure\n",
    "\n",
    "def monthsApart(string1, string2):\n",
    "    year1 = int(string1[0:4])\n",
    "    month1 = int(string1[5:7])\n",
    "    day1 = int(string1[8:])\n",
    "    \n",
    "    year2 = int(string2[0:4])\n",
    "    month2 = int(string2[5:7])\n",
    "    day2 = int(string2[8:])\n",
    "    \n",
    "    date1 = datetime.datetime(year1, month1, day1)\n",
    "    date2 = datetime.datetime(year2, month2, day2)\n",
    "    \n",
    "    difference = date2 - date1\n",
    "    \n",
    "    return difference.days / 30"
   ]
  },
  {
   "cell_type": "code",
   "execution_count": 14,
   "metadata": {},
   "outputs": [],
   "source": [
    "def daysApart(string1, string2):\n",
    "    year1 = int(string1[0:4])\n",
    "    month1 = int(string1[5:7])\n",
    "    day1 = int(string1[8:])\n",
    "    \n",
    "    year2 = int(string2[0:4])\n",
    "    month2 = int(string2[5:7])\n",
    "    day2 = int(string2[8:])\n",
    "    \n",
    "    date1 = datetime.datetime(year1, month1, day1)\n",
    "    date2 = datetime.datetime(year2, month2, day2)\n",
    "    \n",
    "    difference = date2 - date1\n",
    "    \n",
    "    return difference.days"
   ]
  },
  {
   "cell_type": "markdown",
   "metadata": {},
   "source": [
    "Because the data set was collected up until July 1st, any users who booked a ride any time in June or exactly on July 1st would be considered an active user according to the provided definition of \"active user\". We'll define a function that determines this:"
   ]
  },
  {
   "cell_type": "code",
   "execution_count": 15,
   "metadata": {},
   "outputs": [],
   "source": [
    "def isActive(string):\n",
    "    month = int(string[5:7])\n",
    "    if month >= 6:\n",
    "        return 1\n",
    "    else:\n",
    "        return 0"
   ]
  },
  {
   "cell_type": "code",
   "execution_count": 16,
   "metadata": {},
   "outputs": [],
   "source": [
    "monthsretained = []\n",
    "daysretained = []\n",
    "isactive = []\n",
    "\n",
    "for i in range(len(df)):\n",
    "    monthsretained.append(monthsApart(df['signup_date'][i], df['last_trip_date'][i]))\n",
    "    daysretained.append(daysApart(df['signup_date'][i], df['last_trip_date'][i]))\n",
    "    isactive.append(isActive(df['last_trip_date'][i]))"
   ]
  },
  {
   "cell_type": "code",
   "execution_count": 17,
   "metadata": {},
   "outputs": [],
   "source": [
    "df['monthsretained'] = monthsretained\n",
    "df['daysretained'] = daysretained\n",
    "df['isActive'] = isactive"
   ]
  },
  {
   "cell_type": "code",
   "execution_count": 18,
   "metadata": {},
   "outputs": [],
   "source": [
    "ubu = []\n",
    "\n",
    "for i in range(len(df)):\n",
    "    if df['ultimate_black_user'][i]:\n",
    "        ubu.append(1)\n",
    "    else:\n",
    "        ubu.append(0)"
   ]
  },
  {
   "cell_type": "code",
   "execution_count": 19,
   "metadata": {},
   "outputs": [],
   "source": [
    "df['ultimate_black_user'] = ubu"
   ]
  },
  {
   "cell_type": "code",
   "execution_count": 20,
   "metadata": {},
   "outputs": [
    {
     "data": {
      "image/png": "[encoded data removed]",
      "text/plain": [
       "<Figure size 864x864 with 12 Axes>"
      ]
     },
     "metadata": {
      "needs_background": "light"
     },
     "output_type": "display_data"
    }
   ],
   "source": [
    "# Plot Histograms\n",
    "\n",
    "_ = df.hist(column=['trips_in_first_30_days', 'avg_rating_of_driver', 'avg_surge',\n",
    "                    'surge_pct', 'weekday_pct', 'avg_dist', 'avg_rating_by_driver',\n",
    "                    'daysretained', 'isActive', 'ultimate_black_user'],\n",
    "            figsize=(12, 12))"
   ]
  },
  {
   "cell_type": "markdown",
   "metadata": {},
   "source": [
    "1) Most users have 12 or less trips in their first 30 days\n",
    "\n",
    "2) Most users score their drivers a 4 or 5\n",
    "\n",
    "3) Most users don't call for a trip if there's a surge going on\n",
    "\n",
    "4) Essentially the same column as 3)\n",
    "\n",
    "5) Many users only call for rides almost exclusively during the week or on weekends. \n",
    "\n",
    "6) Most users take shorter trips, with a few outliers skewing the shape of the graph\n",
    "\n",
    "7) Similarly to 2), most drivers score their passengers/users a 4 or 5. \n",
    "\n",
    "8) A large amount of users do not use the service for beyond 20 or so days. Interestingly enough, from there there are more users that use the service for a greater amount of time. Until the fall off at around 160 days.\n",
    "\n",
    "9) More users are \"inactive\" than active\n",
    "\n",
    "10) Most users did not take an Ultimate Black in their first 30 days"
   ]
  },
  {
   "cell_type": "code",
   "execution_count": 21,
   "metadata": {},
   "outputs": [
    {
     "data": {
      "image/png": "[encoded data removed]",
      "text/plain": [
       "<Figure size 432x432 with 1 Axes>"
      ]
     },
     "metadata": {
      "needs_background": "light"
     },
     "output_type": "display_data"
    }
   ],
   "source": [
    "# Getting a separate histogram for monthsretained so we can assign an accurate binsize\n",
    "\n",
    "_ = df.hist(column='monthsretained', bins=7, figsize=(6, 6))"
   ]
  },
  {
   "cell_type": "markdown",
   "metadata": {},
   "source": [
    "About 20% of users do not continue to use the service for more than a month, with around 35% of users using the service for 5 months. Very very few users use the service for exactly 6 months. \n",
    "\n",
    "We are interesting in determining our retention rate, which is as follows:"
   ]
  },
  {
   "cell_type": "code",
   "execution_count": 22,
   "metadata": {},
   "outputs": [
    {
     "data": {
      "text/plain": [
       "37.608000000000004"
      ]
     },
     "execution_count": 22,
     "metadata": {},
     "output_type": "execute_result"
    }
   ],
   "source": [
    "(len(df[df['isActive'] == 1]) / len(df)) * 100"
   ]
  },
  {
   "cell_type": "markdown",
   "metadata": {},
   "source": [
    "# Exploratory Data Analysis"
   ]
  },
  {
   "cell_type": "markdown",
   "metadata": {},
   "source": [
    "We are to build a model that determines if a user will be active on their 6th month since signing up. Conveniently for us, we've already introduced an extra column that tracks this, 'monthsretained'. Based on this, we can assign a binary column that simply tells us if the user's 'monthsretained' is greater than equal to 6. From there we can model this problem as a classification problem. "
   ]
  },
  {
   "cell_type": "code",
   "execution_count": 23,
   "metadata": {},
   "outputs": [],
   "source": [
    "# Having used the service on your 6th month means that you've used the service for 5 months\n",
    "\n",
    "active6 = []\n",
    "\n",
    "for i in range(len(df)):\n",
    "    if df['monthsretained'][i] >= 5:\n",
    "        active6.append(1)\n",
    "    else:\n",
    "        active6.append(0)"
   ]
  },
  {
   "cell_type": "code",
   "execution_count": 24,
   "metadata": {},
   "outputs": [],
   "source": [
    "df['active6'] = active6"
   ]
  },
  {
   "cell_type": "markdown",
   "metadata": {},
   "source": [
    "Our non-numeric features are 'city', 'signup_date', 'last_trip_date', and 'phone'. 'city' and 'phone' are nominal data features, while the date features are ordinal. "
   ]
  },
  {
   "cell_type": "markdown",
   "metadata": {},
   "source": [
    "Now we're going to factorize our non-numeric features so that we can look for any potential correlations there as well."
   ]
  },
  {
   "cell_type": "code",
   "execution_count": 25,
   "metadata": {},
   "outputs": [],
   "source": [
    "dates = np.unique(df['last_trip_date'])"
   ]
  },
  {
   "cell_type": "code",
   "execution_count": 26,
   "metadata": {},
   "outputs": [],
   "source": [
    "signupdatesF = []\n",
    "lasttripdatesF = []\n",
    "value1 = 0\n",
    "value2 = 0\n",
    "\n",
    "for i in range(len(df)):\n",
    "    signupdate = df['signup_date'][i]\n",
    "    lasttripdate = df['last_trip_date'][i]\n",
    "    \n",
    "    for j in range(len(dates)):\n",
    "        if signupdate == dates[j]:\n",
    "            value1 = j + 1\n",
    "        if lasttripdate == dates[j]:\n",
    "            value2 = j + 1\n",
    "    \n",
    "    signupdatesF.append(value1)\n",
    "    lasttripdatesF.append(value2)"
   ]
  },
  {
   "cell_type": "code",
   "execution_count": 27,
   "metadata": {},
   "outputs": [],
   "source": [
    "cityF = pd.get_dummies(df['city'])\n",
    "phoneF = pd.get_dummies(df['phone'])"
   ]
  },
  {
   "cell_type": "code",
   "execution_count": 28,
   "metadata": {},
   "outputs": [],
   "source": [
    "df['signupdatesF'] = signupdatesF\n",
    "df['lasttripdatesF'] = lasttripdatesF\n",
    "\n"
   ]
  },
  {
   "cell_type": "code",
   "execution_count": 29,
   "metadata": {},
   "outputs": [],
   "source": [
    "dfEDA = pd.concat([df, pd.get_dummies(df['city'])], axis=1)\n",
    "dfEDA = pd.concat([dfEDA, pd.get_dummies(df['phone'])], axis=1)"
   ]
  },
  {
   "cell_type": "code",
   "execution_count": 30,
   "metadata": {},
   "outputs": [
    {
     "data": {
      "text/html": [
       "<div>\n",
       "<style scoped>\n",
       "    .dataframe tbody tr th:only-of-type {\n",
       "        vertical-align: middle;\n",
       "    }\n",
       "\n",
       "    .dataframe tbody tr th {\n",
       "        vertical-align: top;\n",
       "    }\n",
       "\n",
       "    .dataframe thead th {\n",
       "        text-align: right;\n",
       "    }\n",
       "</style>\n",
       "<table border=\"1\" class=\"dataframe\">\n",
       "  <thead>\n",
       "    <tr style=\"text-align: right;\">\n",
       "      <th></th>\n",
       "      <th>trips_in_first_30_days</th>\n",
       "      <th>avg_rating_of_driver</th>\n",
       "      <th>avg_surge</th>\n",
       "      <th>surge_pct</th>\n",
       "      <th>ultimate_black_user</th>\n",
       "      <th>weekday_pct</th>\n",
       "      <th>avg_dist</th>\n",
       "      <th>avg_rating_by_driver</th>\n",
       "      <th>monthsretained</th>\n",
       "      <th>daysretained</th>\n",
       "      <th>isActive</th>\n",
       "      <th>active6</th>\n",
       "      <th>signupdatesF</th>\n",
       "      <th>lasttripdatesF</th>\n",
       "      <th>Astapor</th>\n",
       "      <th>King's Landing</th>\n",
       "      <th>Winterfell</th>\n",
       "      <th>Android</th>\n",
       "      <th>iPhone</th>\n",
       "    </tr>\n",
       "  </thead>\n",
       "  <tbody>\n",
       "    <tr>\n",
       "      <th>trips_in_first_30_days</th>\n",
       "      <td>1.000000</td>\n",
       "      <td>-0.011060</td>\n",
       "      <td>-0.001841</td>\n",
       "      <td>0.005720</td>\n",
       "      <td>0.112210</td>\n",
       "      <td>0.050388</td>\n",
       "      <td>-0.136329</td>\n",
       "      <td>-0.039097</td>\n",
       "      <td>0.164784</td>\n",
       "      <td>0.164784</td>\n",
       "      <td>0.210463</td>\n",
       "      <td>0.210011</td>\n",
       "      <td>0.012351</td>\n",
       "      <td>0.167633</td>\n",
       "      <td>-0.061075</td>\n",
       "      <td>0.024650</td>\n",
       "      <td>0.037735</td>\n",
       "      <td>-0.059309</td>\n",
       "      <td>0.059309</td>\n",
       "    </tr>\n",
       "    <tr>\n",
       "      <th>avg_rating_of_driver</th>\n",
       "      <td>-0.011060</td>\n",
       "      <td>1.000000</td>\n",
       "      <td>-0.021653</td>\n",
       "      <td>-0.003290</td>\n",
       "      <td>-0.001916</td>\n",
       "      <td>0.012587</td>\n",
       "      <td>0.028508</td>\n",
       "      <td>0.101660</td>\n",
       "      <td>-0.015183</td>\n",
       "      <td>-0.015183</td>\n",
       "      <td>-0.010829</td>\n",
       "      <td>-0.007991</td>\n",
       "      <td>0.005995</td>\n",
       "      <td>-0.014434</td>\n",
       "      <td>0.029814</td>\n",
       "      <td>0.082156</td>\n",
       "      <td>-0.094304</td>\n",
       "      <td>0.024206</td>\n",
       "      <td>-0.024206</td>\n",
       "    </tr>\n",
       "    <tr>\n",
       "      <th>avg_surge</th>\n",
       "      <td>-0.001841</td>\n",
       "      <td>-0.021653</td>\n",
       "      <td>1.000000</td>\n",
       "      <td>0.793582</td>\n",
       "      <td>-0.078791</td>\n",
       "      <td>-0.110071</td>\n",
       "      <td>-0.081491</td>\n",
       "      <td>0.010498</td>\n",
       "      <td>-0.016809</td>\n",
       "      <td>-0.016809</td>\n",
       "      <td>-0.003333</td>\n",
       "      <td>0.006780</td>\n",
       "      <td>-0.006944</td>\n",
       "      <td>-0.017906</td>\n",
       "      <td>0.037172</td>\n",
       "      <td>-0.009198</td>\n",
       "      <td>-0.027643</td>\n",
       "      <td>-0.008977</td>\n",
       "      <td>0.008977</td>\n",
       "    </tr>\n",
       "    <tr>\n",
       "      <th>surge_pct</th>\n",
       "      <td>0.005720</td>\n",
       "      <td>-0.003290</td>\n",
       "      <td>0.793582</td>\n",
       "      <td>1.000000</td>\n",
       "      <td>-0.106861</td>\n",
       "      <td>-0.144918</td>\n",
       "      <td>-0.104414</td>\n",
       "      <td>0.019964</td>\n",
       "      <td>0.004068</td>\n",
       "      <td>0.004068</td>\n",
       "      <td>0.011797</td>\n",
       "      <td>0.017825</td>\n",
       "      <td>0.001667</td>\n",
       "      <td>0.004332</td>\n",
       "      <td>0.045457</td>\n",
       "      <td>0.028221</td>\n",
       "      <td>-0.065603</td>\n",
       "      <td>-0.010150</td>\n",
       "      <td>0.010150</td>\n",
       "    </tr>\n",
       "    <tr>\n",
       "      <th>ultimate_black_user</th>\n",
       "      <td>0.112210</td>\n",
       "      <td>-0.001916</td>\n",
       "      <td>-0.078791</td>\n",
       "      <td>-0.106861</td>\n",
       "      <td>1.000000</td>\n",
       "      <td>0.035998</td>\n",
       "      <td>0.032310</td>\n",
       "      <td>0.009328</td>\n",
       "      <td>0.165035</td>\n",
       "      <td>0.165035</td>\n",
       "      <td>0.205002</td>\n",
       "      <td>0.163169</td>\n",
       "      <td>-0.007398</td>\n",
       "      <td>0.165084</td>\n",
       "      <td>0.021259</td>\n",
       "      <td>0.039649</td>\n",
       "      <td>-0.051990</td>\n",
       "      <td>-0.075836</td>\n",
       "      <td>0.075836</td>\n",
       "    </tr>\n",
       "    <tr>\n",
       "      <th>weekday_pct</th>\n",
       "      <td>0.050388</td>\n",
       "      <td>0.012587</td>\n",
       "      <td>-0.110071</td>\n",
       "      <td>-0.144918</td>\n",
       "      <td>0.035998</td>\n",
       "      <td>1.000000</td>\n",
       "      <td>0.101652</td>\n",
       "      <td>0.020366</td>\n",
       "      <td>0.020408</td>\n",
       "      <td>0.020408</td>\n",
       "      <td>0.009693</td>\n",
       "      <td>0.007811</td>\n",
       "      <td>0.007367</td>\n",
       "      <td>0.021589</td>\n",
       "      <td>-0.010540</td>\n",
       "      <td>0.031349</td>\n",
       "      <td>-0.015318</td>\n",
       "      <td>-0.009241</td>\n",
       "      <td>0.009241</td>\n",
       "    </tr>\n",
       "    <tr>\n",
       "      <th>avg_dist</th>\n",
       "      <td>-0.136329</td>\n",
       "      <td>0.028508</td>\n",
       "      <td>-0.081491</td>\n",
       "      <td>-0.104414</td>\n",
       "      <td>0.032310</td>\n",
       "      <td>0.101652</td>\n",
       "      <td>1.000000</td>\n",
       "      <td>0.079793</td>\n",
       "      <td>-0.109431</td>\n",
       "      <td>-0.109431</td>\n",
       "      <td>-0.092780</td>\n",
       "      <td>-0.092038</td>\n",
       "      <td>0.017274</td>\n",
       "      <td>-0.107710</td>\n",
       "      <td>-0.045431</td>\n",
       "      <td>0.015877</td>\n",
       "      <td>0.030050</td>\n",
       "      <td>0.020888</td>\n",
       "      <td>-0.020888</td>\n",
       "    </tr>\n",
       "    <tr>\n",
       "      <th>avg_rating_by_driver</th>\n",
       "      <td>-0.039097</td>\n",
       "      <td>0.101660</td>\n",
       "      <td>0.010498</td>\n",
       "      <td>0.019964</td>\n",
       "      <td>0.009328</td>\n",
       "      <td>0.020366</td>\n",
       "      <td>0.079793</td>\n",
       "      <td>1.000000</td>\n",
       "      <td>-0.032651</td>\n",
       "      <td>-0.032651</td>\n",
       "      <td>-0.026748</td>\n",
       "      <td>-0.021399</td>\n",
       "      <td>0.002197</td>\n",
       "      <td>-0.032556</td>\n",
       "      <td>0.032518</td>\n",
       "      <td>0.084480</td>\n",
       "      <td>-0.098727</td>\n",
       "      <td>0.008765</td>\n",
       "      <td>-0.008765</td>\n",
       "    </tr>\n",
       "    <tr>\n",
       "      <th>monthsretained</th>\n",
       "      <td>0.164784</td>\n",
       "      <td>-0.015183</td>\n",
       "      <td>-0.016809</td>\n",
       "      <td>0.004068</td>\n",
       "      <td>0.165035</td>\n",
       "      <td>0.020408</td>\n",
       "      <td>-0.109431</td>\n",
       "      <td>-0.032651</td>\n",
       "      <td>1.000000</td>\n",
       "      <td>1.000000</td>\n",
       "      <td>0.778522</td>\n",
       "      <td>0.650272</td>\n",
       "      <td>-0.117226</td>\n",
       "      <td>0.990029</td>\n",
       "      <td>-0.119001</td>\n",
       "      <td>0.193598</td>\n",
       "      <td>-0.043755</td>\n",
       "      <td>-0.183721</td>\n",
       "      <td>0.183721</td>\n",
       "    </tr>\n",
       "    <tr>\n",
       "      <th>daysretained</th>\n",
       "      <td>0.164784</td>\n",
       "      <td>-0.015183</td>\n",
       "      <td>-0.016809</td>\n",
       "      <td>0.004068</td>\n",
       "      <td>0.165035</td>\n",
       "      <td>0.020408</td>\n",
       "      <td>-0.109431</td>\n",
       "      <td>-0.032651</td>\n",
       "      <td>1.000000</td>\n",
       "      <td>1.000000</td>\n",
       "      <td>0.778522</td>\n",
       "      <td>0.650272</td>\n",
       "      <td>-0.117226</td>\n",
       "      <td>0.990029</td>\n",
       "      <td>-0.119001</td>\n",
       "      <td>0.193598</td>\n",
       "      <td>-0.043755</td>\n",
       "      <td>-0.183721</td>\n",
       "      <td>0.183721</td>\n",
       "    </tr>\n",
       "    <tr>\n",
       "      <th>isActive</th>\n",
       "      <td>0.210463</td>\n",
       "      <td>-0.010829</td>\n",
       "      <td>-0.003333</td>\n",
       "      <td>0.011797</td>\n",
       "      <td>0.205002</td>\n",
       "      <td>0.009693</td>\n",
       "      <td>-0.092780</td>\n",
       "      <td>-0.026748</td>\n",
       "      <td>0.778522</td>\n",
       "      <td>0.778522</td>\n",
       "      <td>1.000000</td>\n",
       "      <td>0.750517</td>\n",
       "      <td>-0.020211</td>\n",
       "      <td>0.780837</td>\n",
       "      <td>-0.174655</td>\n",
       "      <td>0.262284</td>\n",
       "      <td>-0.046611</td>\n",
       "      <td>-0.225464</td>\n",
       "      <td>0.225464</td>\n",
       "    </tr>\n",
       "    <tr>\n",
       "      <th>active6</th>\n",
       "      <td>0.210011</td>\n",
       "      <td>-0.007991</td>\n",
       "      <td>0.006780</td>\n",
       "      <td>0.017825</td>\n",
       "      <td>0.163169</td>\n",
       "      <td>0.007811</td>\n",
       "      <td>-0.092038</td>\n",
       "      <td>-0.021399</td>\n",
       "      <td>0.650272</td>\n",
       "      <td>0.650272</td>\n",
       "      <td>0.750517</td>\n",
       "      <td>1.000000</td>\n",
       "      <td>-0.228167</td>\n",
       "      <td>0.622237</td>\n",
       "      <td>-0.134652</td>\n",
       "      <td>0.187189</td>\n",
       "      <td>-0.023833</td>\n",
       "      <td>-0.179908</td>\n",
       "      <td>0.179908</td>\n",
       "    </tr>\n",
       "    <tr>\n",
       "      <th>signupdatesF</th>\n",
       "      <td>0.012351</td>\n",
       "      <td>0.005995</td>\n",
       "      <td>-0.006944</td>\n",
       "      <td>0.001667</td>\n",
       "      <td>-0.007398</td>\n",
       "      <td>0.007367</td>\n",
       "      <td>0.017274</td>\n",
       "      <td>0.002197</td>\n",
       "      <td>-0.117226</td>\n",
       "      <td>-0.117226</td>\n",
       "      <td>-0.020211</td>\n",
       "      <td>-0.228167</td>\n",
       "      <td>1.000000</td>\n",
       "      <td>0.023834</td>\n",
       "      <td>0.017547</td>\n",
       "      <td>0.025171</td>\n",
       "      <td>-0.036826</td>\n",
       "      <td>0.014516</td>\n",
       "      <td>-0.014516</td>\n",
       "    </tr>\n",
       "    <tr>\n",
       "      <th>lasttripdatesF</th>\n",
       "      <td>0.167633</td>\n",
       "      <td>-0.014434</td>\n",
       "      <td>-0.017906</td>\n",
       "      <td>0.004332</td>\n",
       "      <td>0.165084</td>\n",
       "      <td>0.021589</td>\n",
       "      <td>-0.107710</td>\n",
       "      <td>-0.032556</td>\n",
       "      <td>0.990029</td>\n",
       "      <td>0.990029</td>\n",
       "      <td>0.780837</td>\n",
       "      <td>0.622237</td>\n",
       "      <td>0.023834</td>\n",
       "      <td>1.000000</td>\n",
       "      <td>-0.117305</td>\n",
       "      <td>0.198457</td>\n",
       "      <td>-0.049270</td>\n",
       "      <td>-0.182885</td>\n",
       "      <td>0.182885</td>\n",
       "    </tr>\n",
       "    <tr>\n",
       "      <th>Astapor</th>\n",
       "      <td>-0.061075</td>\n",
       "      <td>0.029814</td>\n",
       "      <td>0.037172</td>\n",
       "      <td>0.045457</td>\n",
       "      <td>0.021259</td>\n",
       "      <td>-0.010540</td>\n",
       "      <td>-0.045431</td>\n",
       "      <td>0.032518</td>\n",
       "      <td>-0.119001</td>\n",
       "      <td>-0.119001</td>\n",
       "      <td>-0.174655</td>\n",
       "      <td>-0.134652</td>\n",
       "      <td>0.017547</td>\n",
       "      <td>-0.117305</td>\n",
       "      <td>1.000000</td>\n",
       "      <td>-0.354298</td>\n",
       "      <td>-0.657563</td>\n",
       "      <td>0.025642</td>\n",
       "      <td>-0.025642</td>\n",
       "    </tr>\n",
       "    <tr>\n",
       "      <th>King's Landing</th>\n",
       "      <td>0.024650</td>\n",
       "      <td>0.082156</td>\n",
       "      <td>-0.009198</td>\n",
       "      <td>0.028221</td>\n",
       "      <td>0.039649</td>\n",
       "      <td>0.031349</td>\n",
       "      <td>0.015877</td>\n",
       "      <td>0.084480</td>\n",
       "      <td>0.193598</td>\n",
       "      <td>0.193598</td>\n",
       "      <td>0.262284</td>\n",
       "      <td>0.187189</td>\n",
       "      <td>0.025171</td>\n",
       "      <td>0.198457</td>\n",
       "      <td>-0.354298</td>\n",
       "      <td>1.000000</td>\n",
       "      <td>-0.471555</td>\n",
       "      <td>-0.059203</td>\n",
       "      <td>0.059203</td>\n",
       "    </tr>\n",
       "    <tr>\n",
       "      <th>Winterfell</th>\n",
       "      <td>0.037735</td>\n",
       "      <td>-0.094304</td>\n",
       "      <td>-0.027643</td>\n",
       "      <td>-0.065603</td>\n",
       "      <td>-0.051990</td>\n",
       "      <td>-0.015318</td>\n",
       "      <td>0.030050</td>\n",
       "      <td>-0.098727</td>\n",
       "      <td>-0.043755</td>\n",
       "      <td>-0.043755</td>\n",
       "      <td>-0.046611</td>\n",
       "      <td>-0.023833</td>\n",
       "      <td>-0.036826</td>\n",
       "      <td>-0.049270</td>\n",
       "      <td>-0.657563</td>\n",
       "      <td>-0.471555</td>\n",
       "      <td>1.000000</td>\n",
       "      <td>0.023517</td>\n",
       "      <td>-0.023517</td>\n",
       "    </tr>\n",
       "    <tr>\n",
       "      <th>Android</th>\n",
       "      <td>-0.059309</td>\n",
       "      <td>0.024206</td>\n",
       "      <td>-0.008977</td>\n",
       "      <td>-0.010150</td>\n",
       "      <td>-0.075836</td>\n",
       "      <td>-0.009241</td>\n",
       "      <td>0.020888</td>\n",
       "      <td>0.008765</td>\n",
       "      <td>-0.183721</td>\n",
       "      <td>-0.183721</td>\n",
       "      <td>-0.225464</td>\n",
       "      <td>-0.179908</td>\n",
       "      <td>0.014516</td>\n",
       "      <td>-0.182885</td>\n",
       "      <td>0.025642</td>\n",
       "      <td>-0.059203</td>\n",
       "      <td>0.023517</td>\n",
       "      <td>1.000000</td>\n",
       "      <td>-1.000000</td>\n",
       "    </tr>\n",
       "    <tr>\n",
       "      <th>iPhone</th>\n",
       "      <td>0.059309</td>\n",
       "      <td>-0.024206</td>\n",
       "      <td>0.008977</td>\n",
       "      <td>0.010150</td>\n",
       "      <td>0.075836</td>\n",
       "      <td>0.009241</td>\n",
       "      <td>-0.020888</td>\n",
       "      <td>-0.008765</td>\n",
       "      <td>0.183721</td>\n",
       "      <td>0.183721</td>\n",
       "      <td>0.225464</td>\n",
       "      <td>0.179908</td>\n",
       "      <td>-0.014516</td>\n",
       "      <td>0.182885</td>\n",
       "      <td>-0.025642</td>\n",
       "      <td>0.059203</td>\n",
       "      <td>-0.023517</td>\n",
       "      <td>-1.000000</td>\n",
       "      <td>1.000000</td>\n",
       "    </tr>\n",
       "  </tbody>\n",
       "</table>\n",
       "</div>"
      ],
      "text/plain": [
       "                        trips_in_first_30_days  avg_rating_of_driver  \\\n",
       "trips_in_first_30_days                1.000000             -0.011060   \n",
       "avg_rating_of_driver                 -0.011060              1.000000   \n",
       "avg_surge                            -0.001841             -0.021653   \n",
       "surge_pct                             0.005720             -0.003290   \n",
       "ultimate_black_user                   0.112210             -0.001916   \n",
       "weekday_pct                           0.050388              0.012587   \n",
       "avg_dist                             -0.136329              0.028508   \n",
       "avg_rating_by_driver                 -0.039097              0.101660   \n",
       "monthsretained                        0.164784             -0.015183   \n",
       "daysretained                          0.164784             -0.015183   \n",
       "isActive                              0.210463             -0.010829   \n",
       "active6                               0.210011             -0.007991   \n",
       "signupdatesF                          0.012351              0.005995   \n",
       "lasttripdatesF                        0.167633             -0.014434   \n",
       "Astapor                              -0.061075              0.029814   \n",
       "King's Landing                        0.024650              0.082156   \n",
       "Winterfell                            0.037735             -0.094304   \n",
       "Android                              -0.059309              0.024206   \n",
       "iPhone                                0.059309             -0.024206   \n",
       "\n",
       "                        avg_surge  surge_pct  ultimate_black_user  \\\n",
       "trips_in_first_30_days  -0.001841   0.005720             0.112210   \n",
       "avg_rating_of_driver    -0.021653  -0.003290            -0.001916   \n",
       "avg_surge                1.000000   0.793582            -0.078791   \n",
       "surge_pct                0.793582   1.000000            -0.106861   \n",
       "ultimate_black_user     -0.078791  -0.106861             1.000000   \n",
       "weekday_pct             -0.110071  -0.144918             0.035998   \n",
       "avg_dist                -0.081491  -0.104414             0.032310   \n",
       "avg_rating_by_driver     0.010498   0.019964             0.009328   \n",
       "monthsretained          -0.016809   0.004068             0.165035   \n",
       "daysretained            -0.016809   0.004068             0.165035   \n",
       "isActive                -0.003333   0.011797             0.205002   \n",
       "active6                  0.006780   0.017825             0.163169   \n",
       "signupdatesF            -0.006944   0.001667            -0.007398   \n",
       "lasttripdatesF          -0.017906   0.004332             0.165084   \n",
       "Astapor                  0.037172   0.045457             0.021259   \n",
       "King's Landing          -0.009198   0.028221             0.039649   \n",
       "Winterfell              -0.027643  -0.065603            -0.051990   \n",
       "Android                 -0.008977  -0.010150            -0.075836   \n",
       "iPhone                   0.008977   0.010150             0.075836   \n",
       "\n",
       "                        weekday_pct  avg_dist  avg_rating_by_driver  \\\n",
       "trips_in_first_30_days     0.050388 -0.136329             -0.039097   \n",
       "avg_rating_of_driver       0.012587  0.028508              0.101660   \n",
       "avg_surge                 -0.110071 -0.081491              0.010498   \n",
       "surge_pct                 -0.144918 -0.104414              0.019964   \n",
       "ultimate_black_user        0.035998  0.032310              0.009328   \n",
       "weekday_pct                1.000000  0.101652              0.020366   \n",
       "avg_dist                   0.101652  1.000000              0.079793   \n",
       "avg_rating_by_driver       0.020366  0.079793              1.000000   \n",
       "monthsretained             0.020408 -0.109431             -0.032651   \n",
       "daysretained               0.020408 -0.109431             -0.032651   \n",
       "isActive                   0.009693 -0.092780             -0.026748   \n",
       "active6                    0.007811 -0.092038             -0.021399   \n",
       "signupdatesF               0.007367  0.017274              0.002197   \n",
       "lasttripdatesF             0.021589 -0.107710             -0.032556   \n",
       "Astapor                   -0.010540 -0.045431              0.032518   \n",
       "King's Landing             0.031349  0.015877              0.084480   \n",
       "Winterfell                -0.015318  0.030050             -0.098727   \n",
       "Android                   -0.009241  0.020888              0.008765   \n",
       "iPhone                     0.009241 -0.020888             -0.008765   \n",
       "\n",
       "                        monthsretained  daysretained  isActive   active6  \\\n",
       "trips_in_first_30_days        0.164784      0.164784  0.210463  0.210011   \n",
       "avg_rating_of_driver         -0.015183     -0.015183 -0.010829 -0.007991   \n",
       "avg_surge                    -0.016809     -0.016809 -0.003333  0.006780   \n",
       "surge_pct                     0.004068      0.004068  0.011797  0.017825   \n",
       "ultimate_black_user           0.165035      0.165035  0.205002  0.163169   \n",
       "weekday_pct                   0.020408      0.020408  0.009693  0.007811   \n",
       "avg_dist                     -0.109431     -0.109431 -0.092780 -0.092038   \n",
       "avg_rating_by_driver         -0.032651     -0.032651 -0.026748 -0.021399   \n",
       "monthsretained                1.000000      1.000000  0.778522  0.650272   \n",
       "daysretained                  1.000000      1.000000  0.778522  0.650272   \n",
       "isActive                      0.778522      0.778522  1.000000  0.750517   \n",
       "active6                       0.650272      0.650272  0.750517  1.000000   \n",
       "signupdatesF                 -0.117226     -0.117226 -0.020211 -0.228167   \n",
       "lasttripdatesF                0.990029      0.990029  0.780837  0.622237   \n",
       "Astapor                      -0.119001     -0.119001 -0.174655 -0.134652   \n",
       "King's Landing                0.193598      0.193598  0.262284  0.187189   \n",
       "Winterfell                   -0.043755     -0.043755 -0.046611 -0.023833   \n",
       "Android                      -0.183721     -0.183721 -0.225464 -0.179908   \n",
       "iPhone                        0.183721      0.183721  0.225464  0.179908   \n",
       "\n",
       "                        signupdatesF  lasttripdatesF   Astapor  \\\n",
       "trips_in_first_30_days      0.012351        0.167633 -0.061075   \n",
       "avg_rating_of_driver        0.005995       -0.014434  0.029814   \n",
       "avg_surge                  -0.006944       -0.017906  0.037172   \n",
       "surge_pct                   0.001667        0.004332  0.045457   \n",
       "ultimate_black_user        -0.007398        0.165084  0.021259   \n",
       "weekday_pct                 0.007367        0.021589 -0.010540   \n",
       "avg_dist                    0.017274       -0.107710 -0.045431   \n",
       "avg_rating_by_driver        0.002197       -0.032556  0.032518   \n",
       "monthsretained             -0.117226        0.990029 -0.119001   \n",
       "daysretained               -0.117226        0.990029 -0.119001   \n",
       "isActive                   -0.020211        0.780837 -0.174655   \n",
       "active6                    -0.228167        0.622237 -0.134652   \n",
       "signupdatesF                1.000000        0.023834  0.017547   \n",
       "lasttripdatesF              0.023834        1.000000 -0.117305   \n",
       "Astapor                     0.017547       -0.117305  1.000000   \n",
       "King's Landing              0.025171        0.198457 -0.354298   \n",
       "Winterfell                 -0.036826       -0.049270 -0.657563   \n",
       "Android                     0.014516       -0.182885  0.025642   \n",
       "iPhone                     -0.014516        0.182885 -0.025642   \n",
       "\n",
       "                        King's Landing  Winterfell   Android    iPhone  \n",
       "trips_in_first_30_days        0.024650    0.037735 -0.059309  0.059309  \n",
       "avg_rating_of_driver          0.082156   -0.094304  0.024206 -0.024206  \n",
       "avg_surge                    -0.009198   -0.027643 -0.008977  0.008977  \n",
       "surge_pct                     0.028221   -0.065603 -0.010150  0.010150  \n",
       "ultimate_black_user           0.039649   -0.051990 -0.075836  0.075836  \n",
       "weekday_pct                   0.031349   -0.015318 -0.009241  0.009241  \n",
       "avg_dist                      0.015877    0.030050  0.020888 -0.020888  \n",
       "avg_rating_by_driver          0.084480   -0.098727  0.008765 -0.008765  \n",
       "monthsretained                0.193598   -0.043755 -0.183721  0.183721  \n",
       "daysretained                  0.193598   -0.043755 -0.183721  0.183721  \n",
       "isActive                      0.262284   -0.046611 -0.225464  0.225464  \n",
       "active6                       0.187189   -0.023833 -0.179908  0.179908  \n",
       "signupdatesF                  0.025171   -0.036826  0.014516 -0.014516  \n",
       "lasttripdatesF                0.198457   -0.049270 -0.182885  0.182885  \n",
       "Astapor                      -0.354298   -0.657563  0.025642 -0.025642  \n",
       "King's Landing                1.000000   -0.471555 -0.059203  0.059203  \n",
       "Winterfell                   -0.471555    1.000000  0.023517 -0.023517  \n",
       "Android                      -0.059203    0.023517  1.000000 -1.000000  \n",
       "iPhone                        0.059203   -0.023517 -1.000000  1.000000  "
      ]
     },
     "execution_count": 30,
     "metadata": {},
     "output_type": "execute_result"
    }
   ],
   "source": [
    "dfEDA.corr()"
   ]
  },
  {
   "cell_type": "markdown",
   "metadata": {},
   "source": [
    "Looking at features that correlate the most strongly with 'active6', we have 'trips_in_first_30_days', 'ultimate_black_user', 'weekday_pct', 'avg_dist', 'city', 'monthsretained', 'daysretained', and 'last_trip_date'. However we can't use any of 'monthsretained', 'daysretained', and 'last_trip_date' because 'active6' is derived from these columns. \n",
    "\n",
    "We'll the remaining features as our features of interest. "
   ]
  },
  {
   "cell_type": "code",
   "execution_count": 31,
   "metadata": {},
   "outputs": [],
   "source": [
    "from sklearn.model_selection import train_test_split\n",
    "\n",
    "X = dfEDA[['trips_in_first_30_days', 'ultimate_black_user', 'weekday_pct', 'avg_dist', 'Astapor', 'King\\'s Landing',\n",
    "           'Android', 'iPhone']]\n",
    "\n",
    "y = df['active6']\n",
    "\n",
    "X_train, X_test, y_train, y_test = train_test_split(X, y, test_size=0.3, random_state=42, stratify = y)"
   ]
  },
  {
   "cell_type": "markdown",
   "metadata": {},
   "source": [
    "# Modeling"
   ]
  },
  {
   "cell_type": "code",
   "execution_count": 32,
   "metadata": {},
   "outputs": [],
   "source": [
    "from matplotlib.ticker import IndexLocator\n",
    "import itertools\n",
    "\n",
    "def plot_cm(y_test,y_pred_class,classes=['NON-default','DEFAULT']):\n",
    "    # plot confusion matrix\n",
    "    fig, ax = plt.subplots()\n",
    "    cm = confusion_matrix(y_test, y_pred_class)\n",
    "    \n",
    "    im = ax.imshow(cm, interpolation='nearest', cmap=plt.cm.Blues)\n",
    "    ax.figure.colorbar(im, ax=ax)\n",
    "    plt.title(\"Confusion Matrix\")\n",
    "    ax.set(yticks=[-0.5, 1.5], \n",
    "           xticks=[0, 1], \n",
    "           yticklabels=classes, \n",
    "           xticklabels=classes)\n",
    "    ax.yaxis.set_major_locator(IndexLocator(base=1, offset=0.5))\n",
    "    thresh = cm.max() / 2.\n",
    "    for i, j in itertools.product(range(cm.shape[0]), range(cm.shape[1])):\n",
    "        plt.text(j, i, format(cm[i, j], 'd'),\n",
    "                 horizontalalignment=\"center\",\n",
    "                 color=\"white\" if cm[i, j] > thresh else \"black\")\n",
    "    plt.tight_layout()\n",
    "    plt.ylabel('True label')\n",
    "    plt.xlabel('Predicted label')"
   ]
  },
  {
   "cell_type": "code",
   "execution_count": 41,
   "metadata": {},
   "outputs": [],
   "source": [
    "from sklearn.metrics import confusion_matrix, accuracy_score, precision_score, recall_score, f1_score\n",
    "\n",
    "def scores(y_test, y_pred_class):\n",
    "    # Prints formatted classification metrics. \n",
    "    print('Classification Accuracy: ', format(accuracy_score(y_test, y_pred_class), '.3f'))\n",
    "    print('Precision score: ', format(precision_score(y_test, y_pred_class), '.3f'))\n",
    "    print('Recall score: ', format(recall_score(y_test, y_pred_class), '.3f'))\n",
    "    print('F1 score: ', format(f1_score(y_test, y_pred_class), '.3f'))"
   ]
  },
  {
   "cell_type": "code",
   "execution_count": 37,
   "metadata": {},
   "outputs": [],
   "source": [
    "from sklearn.linear_model import LogisticRegression\n",
    "from sklearn.ensemble import RandomForestClassifier\n",
    "import xgboost as xgb\n",
    "from sklearn.svm import SVC\n",
    "\n",
    "def logiRegr(X_train, y_train, X_test, y_test,**kwargs):\n",
    "    # Instantiate model. Use kwargs to pass parameters.\n",
    "    # Pass GridSearch best_params with ** to unpack.\n",
    "    logreg = LogisticRegression(random_state=1,**kwargs)\n",
    "    # Fit to training data.\n",
    "    logreg.fit(X_train, y_train)\n",
    "    # Examine coefficients\n",
    "    pprint.pprint(list(zip(X_train.columns,logreg.coef_[0])))\n",
    "    # Class predictions (not predicted probabilities)\n",
    "    y_pred_class = logreg.predict(X_test)\n",
    "    # Scoring metrics\n",
    "    scores(y_test, y_pred_class)\n",
    "    # Plot confusion matrix\n",
    "    plot_cm(y_test,y_pred_class)\n",
    "    \n",
    "def randomForest(X_train, y_train, X_test, y_test,**kwargs):\n",
    "    # Instantiate model. Use kwargs to pass parameters.\n",
    "    # Pass GridSearch best_params with ** to unpack.\n",
    "    rf = RandomForestClassifier(random_state=1, **kwargs) \n",
    "    # Fit to training data.\n",
    "    rf.fit(X_train,y_train)\n",
    "    # Class predictions\n",
    "    y_pred_class = rf.predict(X_test)\n",
    "    # Scoring metrics\n",
    "    scores(y_test, y_pred_class)\n",
    "    # Confusion matrix\n",
    "    plot_cm(y_test,y_pred_class)\n",
    "    \n",
    "def xgbClass(X_train, y_train, X_test, y_test,**kwargs):\n",
    "    # Instantiate model. Use kwargs to pass parameters.\n",
    "    # Pass GridSearch best_params with ** to unpack.\n",
    "    xg = xgb.XGBClassifier(seed=1,**kwargs)\n",
    "    # Fit to training data.\n",
    "    xg.fit(X_train,y_train)\n",
    "    # Class predictions\n",
    "    y_pred_class = xg.predict(X_test)\n",
    "    # Scoring metrics\n",
    "    scores(y_test, y_pred_class)\n",
    "    # Confusion matrix\n",
    "    plot_cm(y_test,y_pred_class)\n",
    "    \n",
    "def svmClass(X_train, y_train, X_test, y_test, **kwargs):\n",
    "    # Instantiate model. Use kwargs to pass parameters.\n",
    "    # Pass GridSearch best_params with ** to unpack.\n",
    "    svm = SVC(random_state=1,**kwargs)\n",
    "    # Fit to training data.\n",
    "    svm.fit(X_train, y_train)\n",
    "    # Class predictions\n",
    "    y_pred_class = svm.predict(X_test)\n",
    "    # Scoring metrics\n",
    "    scores(y_test, y_pred_class)\n",
    "    # Plot confusion matrix\n",
    "    plot_cm(y_test,y_pred_class)"
   ]
  },
  {
   "cell_type": "code",
   "execution_count": 42,
   "metadata": {},
   "outputs": [
    {
     "name": "stdout",
     "output_type": "stream",
     "text": [
      "[('trips_in_first_30_days', 0.1009497940011887),\n",
      " ('ultimate_black_user', 0.6967510858681504),\n",
      " ('weekday_pct', -8.252160556739418e-05),\n",
      " ('avg_dist', -0.04150275894892403),\n",
      " ('Astapor', -0.4678815710228727),\n",
      " (\"King's Landing\", 0.7790430231885525),\n",
      " ('Android', -1.0471623726859685),\n",
      " ('iPhone', -0.07208313316742242)]\n",
      "Classification Accuracy:  0.764\n",
      "Precision score:  0.597\n",
      "Recall score:  0.218\n",
      "F1 score:  0.320\n"
     ]
    },
    {
     "data": {
      "image/png": "[encoded data removed]",
      "text/plain": [
       "<Figure size 432x288 with 2 Axes>"
      ]
     },
     "metadata": {
      "needs_background": "light"
     },
     "output_type": "display_data"
    }
   ],
   "source": [
    "logiRegr(X_train, y_train, X_test, y_test)"
   ]
  },
  {
   "cell_type": "code",
   "execution_count": 43,
   "metadata": {},
   "outputs": [
    {
     "name": "stdout",
     "output_type": "stream",
     "text": [
      "Classification Accuracy:  0.733\n",
      "Precision score:  0.473\n",
      "Recall score:  0.428\n",
      "F1 score:  0.449\n"
     ]
    },
    {
     "data": {
      "image/png": "[encoded data removed]",
      "text/plain": [
       "<Figure size 432x288 with 2 Axes>"
      ]
     },
     "metadata": {
      "needs_background": "light"
     },
     "output_type": "display_data"
    }
   ],
   "source": [
    "randomForest(X_train, y_train, X_test, y_test)"
   ]
  },
  {
   "cell_type": "code",
   "execution_count": 44,
   "metadata": {},
   "outputs": [
    {
     "name": "stdout",
     "output_type": "stream",
     "text": [
      "Classification Accuracy:  0.791\n",
      "Precision score:  0.629\n",
      "Recall score:  0.433\n",
      "F1 score:  0.513\n"
     ]
    },
    {
     "data": {
      "image/png": "[encoded data removed]",
      "text/plain": [
       "<Figure size 432x288 with 2 Axes>"
      ]
     },
     "metadata": {
      "needs_background": "light"
     },
     "output_type": "display_data"
    }
   ],
   "source": [
    "xgbClass(X_train, y_train, X_test, y_test)"
   ]
  },
  {
   "cell_type": "code",
   "execution_count": 45,
   "metadata": {},
   "outputs": [
    {
     "name": "stdout",
     "output_type": "stream",
     "text": [
      "Classification Accuracy:  0.750\n",
      "Precision score:  0.696\n",
      "Recall score:  0.033\n",
      "F1 score:  0.063\n"
     ]
    },
    {
     "data": {
      "image/png": "[encoded data removed]",
      "text/plain": [
       "<Figure size 432x288 with 2 Axes>"
      ]
     },
     "metadata": {
      "needs_background": "light"
     },
     "output_type": "display_data"
    }
   ],
   "source": [
    "svmClass(X_train, y_train, X_test, y_test)"
   ]
  },
  {
   "cell_type": "markdown",
   "metadata": {},
   "source": [
    "It seems that the default xgbClass model performs the best compared to the default models of the other classes. Let's do some hyperparameter tuning for each type of algorithm, starting with logistic regression:"
   ]
  },
  {
   "cell_type": "code",
   "execution_count": 52,
   "metadata": {},
   "outputs": [],
   "source": [
    "# Neccesary Imports\n",
    "\n",
    "from sklearn import linear_model, decomposition, datasets\n",
    "from sklearn.pipeline import Pipeline\n",
    "from sklearn.model_selection import GridSearchCV\n",
    "from sklearn.preprocessing import StandardScaler"
   ]
  },
  {
   "cell_type": "code",
   "execution_count": 62,
   "metadata": {},
   "outputs": [],
   "source": [
    "from sklearn.model_selection import RepeatedStratifiedKFold\n",
    "\n",
    "solvers = ['newton-cg', 'lbfgs', 'liblinear']\n",
    "penalty = ['l2']\n",
    "c_values = [100, 10, 1.0, 0.1, 0.01]\n",
    "\n",
    "grid = dict(solver=solvers,penalty=penalty,C=c_values)\n",
    "model = LogisticRegression()\n",
    "\n",
    "cv = RepeatedStratifiedKFold(n_splits=10, n_repeats=3, random_state=1)\n",
    "grid_search = GridSearchCV(estimator=model, param_grid=grid, n_jobs=-1, cv=cv, scoring='accuracy',error_score=0)\n",
    "grid_result = grid_search.fit(X_train, y_train)"
   ]
  },
  {
   "cell_type": "code",
   "execution_count": 63,
   "metadata": {},
   "outputs": [
    {
     "name": "stdout",
     "output_type": "stream",
     "text": [
      "Best: 0.762114 using {'C': 100, 'penalty': 'l2', 'solver': 'lbfgs'}\n",
      "0.762057 (0.004159) with: {'C': 100, 'penalty': 'l2', 'solver': 'newton-cg'}\n",
      "0.762114 (0.004192) with: {'C': 100, 'penalty': 'l2', 'solver': 'lbfgs'}\n",
      "0.762029 (0.004180) with: {'C': 100, 'penalty': 'l2', 'solver': 'liblinear'}\n",
      "0.762057 (0.004159) with: {'C': 10, 'penalty': 'l2', 'solver': 'newton-cg'}\n",
      "0.762086 (0.004151) with: {'C': 10, 'penalty': 'l2', 'solver': 'lbfgs'}\n",
      "0.762038 (0.004185) with: {'C': 10, 'penalty': 'l2', 'solver': 'liblinear'}\n",
      "0.762038 (0.004159) with: {'C': 1.0, 'penalty': 'l2', 'solver': 'newton-cg'}\n",
      "0.762019 (0.004134) with: {'C': 1.0, 'penalty': 'l2', 'solver': 'lbfgs'}\n",
      "0.762019 (0.004204) with: {'C': 1.0, 'penalty': 'l2', 'solver': 'liblinear'}\n",
      "0.761981 (0.004140) with: {'C': 0.1, 'penalty': 'l2', 'solver': 'newton-cg'}\n",
      "0.761990 (0.004083) with: {'C': 0.1, 'penalty': 'l2', 'solver': 'lbfgs'}\n",
      "0.761952 (0.004165) with: {'C': 0.1, 'penalty': 'l2', 'solver': 'liblinear'}\n",
      "0.761886 (0.003869) with: {'C': 0.01, 'penalty': 'l2', 'solver': 'newton-cg'}\n",
      "0.761857 (0.004029) with: {'C': 0.01, 'penalty': 'l2', 'solver': 'lbfgs'}\n",
      "0.761733 (0.004027) with: {'C': 0.01, 'penalty': 'l2', 'solver': 'liblinear'}\n"
     ]
    }
   ],
   "source": [
    "print(\"Best: %f using %s\" % (grid_result.best_score_, grid_result.best_params_))\n",
    "means = grid_result.cv_results_['mean_test_score']\n",
    "stds = grid_result.cv_results_['std_test_score']\n",
    "params = grid_result.cv_results_['params']\n",
    "for mean, stdev, param in zip(means, stds, params):\n",
    "    print(\"%f (%f) with: %r\" % (mean, stdev, param))"
   ]
  },
  {
   "cell_type": "code",
   "execution_count": 64,
   "metadata": {},
   "outputs": [
    {
     "name": "stdout",
     "output_type": "stream",
     "text": [
      "Classification Accuracy:  0.764\n",
      "Precision score:  0.598\n",
      "Recall score:  0.219\n",
      "F1 score:  0.320\n"
     ]
    },
    {
     "data": {
      "image/png": "[encoded data removed]",
      "text/plain": [
       "<Figure size 432x288 with 2 Axes>"
      ]
     },
     "metadata": {
      "needs_background": "light"
     },
     "output_type": "display_data"
    }
   ],
   "source": [
    "# Based on the best gridsearch, we can identify optimal hyperparameters\n",
    "\n",
    "logreg = LogisticRegression(random_state=1,\n",
    "                            penalty='l2',\n",
    "                            solver='lbfgs',\n",
    "                            C=100)\n",
    "logreg.fit(X_train, y_train)\n",
    "\n",
    "# Class predictions (not predicted probabilities)\n",
    "y_pred_class = logreg.predict(X_test)\n",
    "\n",
    "# Scoring metrics\n",
    "scores(y_test, y_pred_class)\n",
    "\n",
    "# Plot confusion matrix\n",
    "plot_cm(y_test,y_pred_class)"
   ]
  },
  {
   "cell_type": "markdown",
   "metadata": {},
   "source": [
    "Incredibly marginal improvment, our precision and recall scores improved by exactly 0.001 while our other scores are unchanged.\n",
    "\n",
    "Let's now move on to Random Forest:"
   ]
  },
  {
   "cell_type": "code",
   "execution_count": 66,
   "metadata": {},
   "outputs": [],
   "source": [
    "model = RandomForestClassifier()\n",
    "n_estimators = [10, 100, 1000]\n",
    "max_features = range(1,8)\n",
    "grid = dict(n_estimators=n_estimators,max_features=max_features)\n",
    "\n",
    "cv = RepeatedStratifiedKFold(n_splits=10, n_repeats=3, random_state=1)\n",
    "grid_search = GridSearchCV(estimator=model, param_grid=grid, n_jobs=-1, cv=cv, scoring='accuracy',error_score=0)\n",
    "grid_result = grid_search.fit(X_train, y_train)"
   ]
  },
  {
   "cell_type": "code",
   "execution_count": 67,
   "metadata": {},
   "outputs": [
    {
     "name": "stdout",
     "output_type": "stream",
     "text": [
      "Best: 0.741286 using {'max_features': 7, 'n_estimators': 1000}\n",
      "0.733543 (0.005439) with: {'max_features': 1, 'n_estimators': 10}\n",
      "0.731429 (0.005887) with: {'max_features': 1, 'n_estimators': 100}\n",
      "0.731514 (0.005548) with: {'max_features': 1, 'n_estimators': 1000}\n",
      "0.732876 (0.004558) with: {'max_features': 2, 'n_estimators': 10}\n",
      "0.731371 (0.005775) with: {'max_features': 2, 'n_estimators': 100}\n",
      "0.731762 (0.005195) with: {'max_features': 2, 'n_estimators': 1000}\n",
      "0.734771 (0.004983) with: {'max_features': 3, 'n_estimators': 10}\n",
      "0.732552 (0.005475) with: {'max_features': 3, 'n_estimators': 100}\n",
      "0.733029 (0.005510) with: {'max_features': 3, 'n_estimators': 1000}\n",
      "0.735286 (0.006066) with: {'max_features': 4, 'n_estimators': 10}\n",
      "0.734524 (0.005219) with: {'max_features': 4, 'n_estimators': 100}\n",
      "0.734638 (0.005798) with: {'max_features': 4, 'n_estimators': 1000}\n",
      "0.739010 (0.005593) with: {'max_features': 5, 'n_estimators': 10}\n",
      "0.736933 (0.005819) with: {'max_features': 5, 'n_estimators': 100}\n",
      "0.736990 (0.005722) with: {'max_features': 5, 'n_estimators': 1000}\n",
      "0.737914 (0.005960) with: {'max_features': 6, 'n_estimators': 10}\n",
      "0.738933 (0.005714) with: {'max_features': 6, 'n_estimators': 100}\n",
      "0.739238 (0.005645) with: {'max_features': 6, 'n_estimators': 1000}\n",
      "0.739286 (0.005028) with: {'max_features': 7, 'n_estimators': 10}\n",
      "0.740657 (0.006451) with: {'max_features': 7, 'n_estimators': 100}\n",
      "0.741286 (0.006587) with: {'max_features': 7, 'n_estimators': 1000}\n"
     ]
    }
   ],
   "source": [
    "print(\"Best: %f using %s\" % (grid_result.best_score_, grid_result.best_params_))\n",
    "means = grid_result.cv_results_['mean_test_score']\n",
    "stds = grid_result.cv_results_['std_test_score']\n",
    "params = grid_result.cv_results_['params']\n",
    "for mean, stdev, param in zip(means, stds, params):\n",
    "    print(\"%f (%f) with: %r\" % (mean, stdev, param))"
   ]
  },
  {
   "cell_type": "code",
   "execution_count": 68,
   "metadata": {},
   "outputs": [
    {
     "name": "stdout",
     "output_type": "stream",
     "text": [
      "Classification Accuracy:  0.742\n",
      "Precision score:  0.492\n",
      "Recall score:  0.453\n",
      "F1 score:  0.472\n"
     ]
    },
    {
     "data": {
      "image/png": "[encoded data removed]",
      "text/plain": [
       "<Figure size 432x288 with 2 Axes>"
      ]
     },
     "metadata": {
      "needs_background": "light"
     },
     "output_type": "display_data"
    }
   ],
   "source": [
    "# Based on the best gridsearch, we can identify optimal hyperparameters\n",
    "\n",
    "ranfor = RandomForestClassifier(n_estimators=1000,\n",
    "                                max_features=7)\n",
    "ranfor.fit(X_train, y_train)\n",
    "\n",
    "# Class predictions (not predicted probabilities)\n",
    "y_pred_class = ranfor.predict(X_test)\n",
    "\n",
    "# Scoring metrics\n",
    "scores(y_test, y_pred_class)\n",
    "\n",
    "# Plot confusion matrix\n",
    "plot_cm(y_test,y_pred_class)"
   ]
  },
  {
   "cell_type": "code",
   "execution_count": 69,
   "metadata": {},
   "outputs": [
    {
     "name": "stdout",
     "output_type": "stream",
     "text": [
      "Best: 0.792160 using {'learning_rate': 0.1, 'max_depth': 3, 'n_estimators': 1000, 'subsample': 1.0}\n",
      "0.747840 (0.004582) with: {'learning_rate': 0.001, 'max_depth': 3, 'n_estimators': 10, 'subsample': 0.5}\n",
      "0.746307 (0.001799) with: {'learning_rate': 0.001, 'max_depth': 3, 'n_estimators': 10, 'subsample': 0.7}\n",
      "0.745967 (0.001347) with: {'learning_rate': 0.001, 'max_depth': 3, 'n_estimators': 10, 'subsample': 1.0}\n",
      "0.756220 (0.006451) with: {'learning_rate': 0.001, 'max_depth': 3, 'n_estimators': 100, 'subsample': 0.5}\n",
      "0.750407 (0.005801) with: {'learning_rate': 0.001, 'max_depth': 3, 'n_estimators': 100, 'subsample': 0.7}\n",
      "0.748433 (0.003825) with: {'learning_rate': 0.001, 'max_depth': 3, 'n_estimators': 100, 'subsample': 1.0}\n",
      "0.764627 (0.002943) with: {'learning_rate': 0.001, 'max_depth': 3, 'n_estimators': 1000, 'subsample': 0.5}\n",
      "0.764633 (0.003051) with: {'learning_rate': 0.001, 'max_depth': 3, 'n_estimators': 1000, 'subsample': 0.7}\n",
      "0.764053 (0.003023) with: {'learning_rate': 0.001, 'max_depth': 3, 'n_estimators': 1000, 'subsample': 1.0}\n",
      "0.776220 (0.003949) with: {'learning_rate': 0.001, 'max_depth': 7, 'n_estimators': 10, 'subsample': 0.5}\n",
      "0.775753 (0.004848) with: {'learning_rate': 0.001, 'max_depth': 7, 'n_estimators': 10, 'subsample': 0.7}\n",
      "0.770653 (0.004826) with: {'learning_rate': 0.001, 'max_depth': 7, 'n_estimators': 10, 'subsample': 1.0}\n",
      "0.777333 (0.004440) with: {'learning_rate': 0.001, 'max_depth': 7, 'n_estimators': 100, 'subsample': 0.5}\n",
      "0.777000 (0.004713) with: {'learning_rate': 0.001, 'max_depth': 7, 'n_estimators': 100, 'subsample': 0.7}\n",
      "0.773367 (0.004398) with: {'learning_rate': 0.001, 'max_depth': 7, 'n_estimators': 100, 'subsample': 1.0}\n",
      "0.780320 (0.004029) with: {'learning_rate': 0.001, 'max_depth': 7, 'n_estimators': 1000, 'subsample': 0.5}\n",
      "0.780087 (0.004347) with: {'learning_rate': 0.001, 'max_depth': 7, 'n_estimators': 1000, 'subsample': 0.7}\n",
      "0.780240 (0.004429) with: {'learning_rate': 0.001, 'max_depth': 7, 'n_estimators': 1000, 'subsample': 1.0}\n",
      "0.778847 (0.004098) with: {'learning_rate': 0.001, 'max_depth': 9, 'n_estimators': 10, 'subsample': 0.5}\n",
      "0.778440 (0.004883) with: {'learning_rate': 0.001, 'max_depth': 9, 'n_estimators': 10, 'subsample': 0.7}\n",
      "0.773700 (0.004079) with: {'learning_rate': 0.001, 'max_depth': 9, 'n_estimators': 10, 'subsample': 1.0}\n",
      "0.780080 (0.004785) with: {'learning_rate': 0.001, 'max_depth': 9, 'n_estimators': 100, 'subsample': 0.5}\n",
      "0.779593 (0.004807) with: {'learning_rate': 0.001, 'max_depth': 9, 'n_estimators': 100, 'subsample': 0.7}\n",
      "0.775040 (0.004383) with: {'learning_rate': 0.001, 'max_depth': 9, 'n_estimators': 100, 'subsample': 1.0}\n",
      "0.783147 (0.004572) with: {'learning_rate': 0.001, 'max_depth': 9, 'n_estimators': 1000, 'subsample': 0.5}\n",
      "0.782573 (0.004591) with: {'learning_rate': 0.001, 'max_depth': 9, 'n_estimators': 1000, 'subsample': 0.7}\n",
      "0.780853 (0.004567) with: {'learning_rate': 0.001, 'max_depth': 9, 'n_estimators': 1000, 'subsample': 1.0}\n",
      "0.755867 (0.006493) with: {'learning_rate': 0.01, 'max_depth': 3, 'n_estimators': 10, 'subsample': 0.5}\n",
      "0.750980 (0.006028) with: {'learning_rate': 0.01, 'max_depth': 3, 'n_estimators': 10, 'subsample': 0.7}\n",
      "0.748040 (0.003450) with: {'learning_rate': 0.01, 'max_depth': 3, 'n_estimators': 10, 'subsample': 1.0}\n",
      "0.764513 (0.003105) with: {'learning_rate': 0.01, 'max_depth': 3, 'n_estimators': 100, 'subsample': 0.5}\n",
      "0.764333 (0.003477) with: {'learning_rate': 0.01, 'max_depth': 3, 'n_estimators': 100, 'subsample': 0.7}\n",
      "0.764087 (0.003052) with: {'learning_rate': 0.01, 'max_depth': 3, 'n_estimators': 100, 'subsample': 1.0}\n",
      "0.783700 (0.004460) with: {'learning_rate': 0.01, 'max_depth': 3, 'n_estimators': 1000, 'subsample': 0.5}\n",
      "0.783640 (0.004326) with: {'learning_rate': 0.01, 'max_depth': 3, 'n_estimators': 1000, 'subsample': 0.7}\n",
      "0.783867 (0.004553) with: {'learning_rate': 0.01, 'max_depth': 3, 'n_estimators': 1000, 'subsample': 1.0}\n",
      "0.776593 (0.003826) with: {'learning_rate': 0.01, 'max_depth': 7, 'n_estimators': 10, 'subsample': 0.5}\n",
      "0.776307 (0.004722) with: {'learning_rate': 0.01, 'max_depth': 7, 'n_estimators': 10, 'subsample': 0.7}\n",
      "0.773393 (0.004451) with: {'learning_rate': 0.01, 'max_depth': 7, 'n_estimators': 10, 'subsample': 1.0}\n",
      "0.780160 (0.004244) with: {'learning_rate': 0.01, 'max_depth': 7, 'n_estimators': 100, 'subsample': 0.5}\n",
      "0.780013 (0.004755) with: {'learning_rate': 0.01, 'max_depth': 7, 'n_estimators': 100, 'subsample': 0.7}\n",
      "0.780147 (0.004559) with: {'learning_rate': 0.01, 'max_depth': 7, 'n_estimators': 100, 'subsample': 1.0}\n",
      "0.789300 (0.004894) with: {'learning_rate': 0.01, 'max_depth': 7, 'n_estimators': 1000, 'subsample': 0.5}\n",
      "0.789800 (0.004926) with: {'learning_rate': 0.01, 'max_depth': 7, 'n_estimators': 1000, 'subsample': 0.7}\n",
      "0.789247 (0.004819) with: {'learning_rate': 0.01, 'max_depth': 7, 'n_estimators': 1000, 'subsample': 1.0}\n",
      "0.779220 (0.004513) with: {'learning_rate': 0.01, 'max_depth': 9, 'n_estimators': 10, 'subsample': 0.5}\n",
      "0.779373 (0.004699) with: {'learning_rate': 0.01, 'max_depth': 9, 'n_estimators': 10, 'subsample': 0.7}\n",
      "0.775220 (0.004357) with: {'learning_rate': 0.01, 'max_depth': 9, 'n_estimators': 10, 'subsample': 1.0}\n",
      "0.783027 (0.004462) with: {'learning_rate': 0.01, 'max_depth': 9, 'n_estimators': 100, 'subsample': 0.5}\n",
      "0.782560 (0.004824) with: {'learning_rate': 0.01, 'max_depth': 9, 'n_estimators': 100, 'subsample': 0.7}\n",
      "0.780720 (0.004599) with: {'learning_rate': 0.01, 'max_depth': 9, 'n_estimators': 100, 'subsample': 1.0}\n",
      "0.788147 (0.004923) with: {'learning_rate': 0.01, 'max_depth': 9, 'n_estimators': 1000, 'subsample': 0.5}\n",
      "0.788253 (0.004560) with: {'learning_rate': 0.01, 'max_depth': 9, 'n_estimators': 1000, 'subsample': 0.7}\n",
      "0.787707 (0.004090) with: {'learning_rate': 0.01, 'max_depth': 9, 'n_estimators': 1000, 'subsample': 1.0}\n",
      "0.763960 (0.004102) with: {'learning_rate': 0.1, 'max_depth': 3, 'n_estimators': 10, 'subsample': 0.5}\n",
      "0.763480 (0.003986) with: {'learning_rate': 0.1, 'max_depth': 3, 'n_estimators': 10, 'subsample': 0.7}\n",
      "0.763673 (0.003829) with: {'learning_rate': 0.1, 'max_depth': 3, 'n_estimators': 10, 'subsample': 1.0}\n",
      "0.783800 (0.004714) with: {'learning_rate': 0.1, 'max_depth': 3, 'n_estimators': 100, 'subsample': 0.5}\n",
      "0.783353 (0.004637) with: {'learning_rate': 0.1, 'max_depth': 3, 'n_estimators': 100, 'subsample': 0.7}\n",
      "0.784047 (0.004685) with: {'learning_rate': 0.1, 'max_depth': 3, 'n_estimators': 100, 'subsample': 1.0}\n",
      "0.791460 (0.004469) with: {'learning_rate': 0.1, 'max_depth': 3, 'n_estimators': 1000, 'subsample': 0.5}\n",
      "0.791840 (0.004292) with: {'learning_rate': 0.1, 'max_depth': 3, 'n_estimators': 1000, 'subsample': 0.7}\n",
      "0.792160 (0.004466) with: {'learning_rate': 0.1, 'max_depth': 3, 'n_estimators': 1000, 'subsample': 1.0}\n",
      "0.779133 (0.004610) with: {'learning_rate': 0.1, 'max_depth': 7, 'n_estimators': 10, 'subsample': 0.5}\n",
      "0.778487 (0.004211) with: {'learning_rate': 0.1, 'max_depth': 7, 'n_estimators': 10, 'subsample': 0.7}\n",
      "0.779720 (0.004314) with: {'learning_rate': 0.1, 'max_depth': 7, 'n_estimators': 10, 'subsample': 1.0}\n",
      "0.788453 (0.005360) with: {'learning_rate': 0.1, 'max_depth': 7, 'n_estimators': 100, 'subsample': 0.5}\n",
      "0.789793 (0.005045) with: {'learning_rate': 0.1, 'max_depth': 7, 'n_estimators': 100, 'subsample': 0.7}\n",
      "0.789233 (0.004540) with: {'learning_rate': 0.1, 'max_depth': 7, 'n_estimators': 100, 'subsample': 1.0}\n",
      "0.775287 (0.005165) with: {'learning_rate': 0.1, 'max_depth': 7, 'n_estimators': 1000, 'subsample': 0.5}\n",
      "0.776927 (0.004169) with: {'learning_rate': 0.1, 'max_depth': 7, 'n_estimators': 1000, 'subsample': 0.7}\n",
      "0.783040 (0.004939) with: {'learning_rate': 0.1, 'max_depth': 7, 'n_estimators': 1000, 'subsample': 1.0}\n",
      "0.781007 (0.004496) with: {'learning_rate': 0.1, 'max_depth': 9, 'n_estimators': 10, 'subsample': 0.5}\n",
      "0.780713 (0.004678) with: {'learning_rate': 0.1, 'max_depth': 9, 'n_estimators': 10, 'subsample': 0.7}\n",
      "0.780333 (0.004971) with: {'learning_rate': 0.1, 'max_depth': 9, 'n_estimators': 10, 'subsample': 1.0}\n",
      "0.785447 (0.005032) with: {'learning_rate': 0.1, 'max_depth': 9, 'n_estimators': 100, 'subsample': 0.5}\n",
      "0.787133 (0.004416) with: {'learning_rate': 0.1, 'max_depth': 9, 'n_estimators': 100, 'subsample': 0.7}\n",
      "0.787113 (0.004430) with: {'learning_rate': 0.1, 'max_depth': 9, 'n_estimators': 100, 'subsample': 1.0}\n",
      "0.764820 (0.004573) with: {'learning_rate': 0.1, 'max_depth': 9, 'n_estimators': 1000, 'subsample': 0.5}\n",
      "0.764960 (0.004546) with: {'learning_rate': 0.1, 'max_depth': 9, 'n_estimators': 1000, 'subsample': 0.7}\n",
      "0.776967 (0.004876) with: {'learning_rate': 0.1, 'max_depth': 9, 'n_estimators': 1000, 'subsample': 1.0}\n"
     ]
    }
   ],
   "source": [
    "model = xgb.XGBClassifier()\n",
    "n_estimators = [10, 100, 1000]\n",
    "learning_rate = [0.001, 0.01, 0.1]\n",
    "subsample = [0.5, 0.7, 1.0]\n",
    "max_depth = [3, 7, 9]\n",
    "# define grid search\n",
    "grid = dict(learning_rate=learning_rate, n_estimators=n_estimators, subsample=subsample, max_depth=max_depth)\n",
    "cv = RepeatedStratifiedKFold(n_splits=10, n_repeats=3, random_state=1)\n",
    "grid_search = GridSearchCV(estimator=model, param_grid=grid, n_jobs=-1, cv=cv, scoring='accuracy',error_score=0)\n",
    "grid_result = grid_search.fit(X, y)\n",
    "# summarize results\n",
    "print(\"Best: %f using %s\" % (grid_result.best_score_, grid_result.best_params_))\n",
    "means = grid_result.cv_results_['mean_test_score']\n",
    "stds = grid_result.cv_results_['std_test_score']\n",
    "params = grid_result.cv_results_['params']\n",
    "for mean, stdev, param in zip(means, stds, params):\n",
    "    print(\"%f (%f) with: %r\" % (mean, stdev, param))"
   ]
  },
  {
   "cell_type": "code",
   "execution_count": 73,
   "metadata": {},
   "outputs": [
    {
     "name": "stdout",
     "output_type": "stream",
     "text": [
      "Classification Accuracy:  0.793\n",
      "Precision score:  0.640\n",
      "Recall score:  0.423\n",
      "F1 score:  0.509\n"
     ]
    },
    {
     "data": {
      "image/png": "[encoded data removed]",
      "text/plain": [
       "<Figure size 432x288 with 2 Axes>"
      ]
     },
     "metadata": {
      "needs_background": "light"
     },
     "output_type": "display_data"
    }
   ],
   "source": [
    "# Based on the best gridsearch, we can identify optimal hyperparameters\n",
    "\n",
    "xg = xgb.XGBClassifier(learning_rate=0.1,\n",
    "                       max_depth=3,\n",
    "                       n_estimators=1000,\n",
    "                       subsample=1.0)\n",
    "xg.fit(X_train, y_train)\n",
    "\n",
    "# Class predictions (not predicted probabilities)\n",
    "y_pred_class = xg.predict(X_test)\n",
    "\n",
    "# Scoring metrics\n",
    "scores(y_test, y_pred_class)\n",
    "\n",
    "# Plot confusion matrix\n",
    "plot_cm(y_test,y_pred_class)"
   ]
  },
  {
   "cell_type": "code",
   "execution_count": 70,
   "metadata": {},
   "outputs": [
    {
     "name": "stdout",
     "output_type": "stream",
     "text": [
      "Best: 0.766500 using {'C': 50, 'gamma': 'scale', 'kernel': 'rbf'}\n",
      "0.750447 (0.001430) with: {'C': 50, 'gamma': 'scale', 'kernel': 'poly'}\n",
      "0.766500 (0.003024) with: {'C': 50, 'gamma': 'scale', 'kernel': 'rbf'}\n",
      "0.548627 (0.006578) with: {'C': 50, 'gamma': 'scale', 'kernel': 'sigmoid'}\n",
      "0.748740 (0.001388) with: {'C': 10, 'gamma': 'scale', 'kernel': 'poly'}\n",
      "0.761120 (0.002653) with: {'C': 10, 'gamma': 'scale', 'kernel': 'rbf'}\n",
      "0.550947 (0.005798) with: {'C': 10, 'gamma': 'scale', 'kernel': 'sigmoid'}\n",
      "0.747567 (0.001221) with: {'C': 1.0, 'gamma': 'scale', 'kernel': 'poly'}\n",
      "0.751353 (0.001821) with: {'C': 1.0, 'gamma': 'scale', 'kernel': 'rbf'}\n",
      "0.562000 (0.005457) with: {'C': 1.0, 'gamma': 'scale', 'kernel': 'sigmoid'}\n",
      "0.746213 (0.000691) with: {'C': 0.1, 'gamma': 'scale', 'kernel': 'poly'}\n",
      "0.746627 (0.000709) with: {'C': 0.1, 'gamma': 'scale', 'kernel': 'rbf'}\n",
      "0.682147 (0.030732) with: {'C': 0.1, 'gamma': 'scale', 'kernel': 'sigmoid'}\n",
      "0.745733 (0.000140) with: {'C': 0.01, 'gamma': 'scale', 'kernel': 'poly'}\n",
      "0.745720 (0.000098) with: {'C': 0.01, 'gamma': 'scale', 'kernel': 'rbf'}\n",
      "0.745633 (0.000213) with: {'C': 0.01, 'gamma': 'scale', 'kernel': 'sigmoid'}\n"
     ]
    }
   ],
   "source": [
    "model = SVC()\n",
    "kernel = ['poly', 'rbf', 'sigmoid']\n",
    "C = [50, 10, 1.0, 0.1, 0.01]\n",
    "gamma = ['scale']\n",
    "# define grid search\n",
    "grid = dict(kernel=kernel,C=C,gamma=gamma)\n",
    "cv = RepeatedStratifiedKFold(n_splits=10, n_repeats=3, random_state=1)\n",
    "grid_search = GridSearchCV(estimator=model, param_grid=grid, n_jobs=-1, cv=cv, scoring='accuracy',error_score=0)\n",
    "grid_result = grid_search.fit(X, y)\n",
    "# summarize results\n",
    "print(\"Best: %f using %s\" % (grid_result.best_score_, grid_result.best_params_))\n",
    "means = grid_result.cv_results_['mean_test_score']\n",
    "stds = grid_result.cv_results_['std_test_score']\n",
    "params = grid_result.cv_results_['params']\n",
    "for mean, stdev, param in zip(means, stds, params):\n",
    "    print(\"%f (%f) with: %r\" % (mean, stdev, param))"
   ]
  },
  {
   "cell_type": "code",
   "execution_count": 74,
   "metadata": {},
   "outputs": [
    {
     "name": "stdout",
     "output_type": "stream",
     "text": [
      "Classification Accuracy:  0.767\n",
      "Precision score:  0.652\n",
      "Recall score:  0.180\n",
      "F1 score:  0.282\n"
     ]
    },
    {
     "data": {
      "image/png": "[encoded data removed]",
      "text/plain": [
       "<Figure size 432x288 with 2 Axes>"
      ]
     },
     "metadata": {
      "needs_background": "light"
     },
     "output_type": "display_data"
    }
   ],
   "source": [
    "# Based on the best gridsearch, we can identify optimal hyperparameters\n",
    "\n",
    "svm = SVC(C=50,\n",
    "          gamma='scale',\n",
    "          kernel='rbf')\n",
    "\n",
    "svm.fit(X_train, y_train)\n",
    "\n",
    "# Class predictions (not predicted probabilities)\n",
    "y_pred_class = svm.predict(X_test)\n",
    "\n",
    "# Scoring metrics\n",
    "scores(y_test, y_pred_class)\n",
    "\n",
    "# Plot confusion matrix\n",
    "plot_cm(y_test,y_pred_class)"
   ]
  },
  {
   "cell_type": "markdown",
   "metadata": {},
   "source": [
    "After gridsearching of hyperparameters for all four of our models, the XGBoost classifier model is our best performing one. Let's take a closer look at which features were most influential in our model:"
   ]
  },
  {
   "cell_type": "code",
   "execution_count": 77,
   "metadata": {},
   "outputs": [
    {
     "name": "stdout",
     "output_type": "stream",
     "text": [
      "[0.05325076 0.15569806 0.11755992 0.01923889 0.12216832 0.22324196\n",
      " 0.3088421  0.        ]\n"
     ]
    }
   ],
   "source": [
    "print(xg.feature_importances_)"
   ]
  },
  {
   "cell_type": "markdown",
   "metadata": {},
   "source": [
    "This was the initial list of features we selected to be a part of our X:\n",
    "    \n",
    "dfEDA[['trips_in_first_30_days', 'ultimate_black_user', 'weekday_pct', 'avg_dist', 'Astapor', 'King's Landing',\n",
    "           'Android', 'iPhone']]\n",
    "\n",
    "Based on the order, the most impactful features would be corresponding to 'ultimate_black_user', 'weekday_pct', 'Astapor', 'King's Landing', and 'Android'. So in summary, the most predictive categories of user re"
   ]
  }
 ],
 "metadata": {
  "kernelspec": {
   "display_name": "Python 3",
   "language": "python",
   "name": "python3"
  },
  "language_info": {
   "codemirror_mode": {
    "name": "ipython",
    "version": 3
   },
   "file_extension": ".py",
   "mimetype": "text/x-python",
   "name": "python",
   "nbconvert_exporter": "python",
   "pygments_lexer": "ipython3",
   "version": "3.7.6"
  }
 },
 "nbformat": 4,
 "nbformat_minor": 4
}
